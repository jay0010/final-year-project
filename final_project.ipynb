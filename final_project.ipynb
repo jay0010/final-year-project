{
  "cells": [
    {
      "cell_type": "markdown",
      "source": [
        "## **IMPORTING LIBRARIES :**"
      ],
      "metadata": {
        "id": "8oMJymHQW2TL"
      },
      "id": "8oMJymHQW2TL"
    },
    {
      "cell_type": "markdown",
      "source": [
        "# **FINAL YEAR PROJECT : BANK LOAN APPROVAL PREDICTION SYSTEM USING MACHINE LEARNING ALGORITHMS**\n",
        "\n",
        "## **GROUP PARTICIPANTS:-**\n",
        "1. JAYAN KOKRU\n",
        "2. PRATHMESH CHAVAN\n",
        "3. ABHIJEET GHODKE\n",
        "4. SIDDHARTH CHAND\n",
        "\n",
        "## **GUIDED BY :-**\n",
        "PROF. SAGAR MANE"
      ],
      "metadata": {
        "id": "IT-zH6hNtpqq"
      },
      "id": "IT-zH6hNtpqq"
    },
    {
      "cell_type": "code",
      "execution_count": 1,
      "id": "f4207f94",
      "metadata": {
        "id": "f4207f94"
      },
      "outputs": [],
      "source": [
        "import numpy as np\n",
        "import pandas as pd\n",
        "import seaborn as sb\n",
        "import matplotlib.pyplot as plt"
      ]
    },
    {
      "cell_type": "markdown",
      "source": [
        "## **IMPORTING DATASETS :**"
      ],
      "metadata": {
        "id": "X9fkMw2eW7wl"
      },
      "id": "X9fkMw2eW7wl"
    },
    {
      "cell_type": "code",
      "execution_count": 4,
      "id": "ad45c783",
      "metadata": {
        "id": "ad45c783"
      },
      "outputs": [],
      "source": [
        "data = pd.read_csv('/content/train_pro.csv')"
      ]
    },
    {
      "cell_type": "markdown",
      "source": [
        "## Print first few(here,5) rows :"
      ],
      "metadata": {
        "id": "2nEHyU--XWSp"
      },
      "id": "2nEHyU--XWSp"
    },
    {
      "cell_type": "code",
      "execution_count": null,
      "id": "7fccbe76",
      "metadata": {
        "id": "7fccbe76",
        "outputId": "feb7d7ef-7b1e-4c4b-af04-e11c4a5f68ec"
      },
      "outputs": [
        {
          "data": {
            "text/html": [
              "<div>\n",
              "<style scoped>\n",
              "    .dataframe tbody tr th:only-of-type {\n",
              "        vertical-align: middle;\n",
              "    }\n",
              "\n",
              "    .dataframe tbody tr th {\n",
              "        vertical-align: top;\n",
              "    }\n",
              "\n",
              "    .dataframe thead th {\n",
              "        text-align: right;\n",
              "    }\n",
              "</style>\n",
              "<table border=\"1\" class=\"dataframe\">\n",
              "  <thead>\n",
              "    <tr style=\"text-align: right;\">\n",
              "      <th></th>\n",
              "      <th>Loan_ID</th>\n",
              "      <th>Gender</th>\n",
              "      <th>Married</th>\n",
              "      <th>Dependents</th>\n",
              "      <th>Education</th>\n",
              "      <th>Self_Employed</th>\n",
              "      <th>ApplicantIncome</th>\n",
              "      <th>CoapplicantIncome</th>\n",
              "      <th>LoanAmount</th>\n",
              "      <th>Loan_Amount_Term</th>\n",
              "      <th>Credit_History</th>\n",
              "      <th>Property_Area</th>\n",
              "      <th>Loan_Status</th>\n",
              "    </tr>\n",
              "  </thead>\n",
              "  <tbody>\n",
              "    <tr>\n",
              "      <th>0</th>\n",
              "      <td>LP001002</td>\n",
              "      <td>Male</td>\n",
              "      <td>No</td>\n",
              "      <td>0</td>\n",
              "      <td>Graduate</td>\n",
              "      <td>No</td>\n",
              "      <td>5849</td>\n",
              "      <td>0.0</td>\n",
              "      <td>NaN</td>\n",
              "      <td>360.0</td>\n",
              "      <td>1.0</td>\n",
              "      <td>Urban</td>\n",
              "      <td>Y</td>\n",
              "    </tr>\n",
              "    <tr>\n",
              "      <th>1</th>\n",
              "      <td>LP001003</td>\n",
              "      <td>Male</td>\n",
              "      <td>Yes</td>\n",
              "      <td>1</td>\n",
              "      <td>Graduate</td>\n",
              "      <td>No</td>\n",
              "      <td>4583</td>\n",
              "      <td>1508.0</td>\n",
              "      <td>128.0</td>\n",
              "      <td>360.0</td>\n",
              "      <td>1.0</td>\n",
              "      <td>Rural</td>\n",
              "      <td>N</td>\n",
              "    </tr>\n",
              "    <tr>\n",
              "      <th>2</th>\n",
              "      <td>LP001005</td>\n",
              "      <td>Male</td>\n",
              "      <td>Yes</td>\n",
              "      <td>0</td>\n",
              "      <td>Graduate</td>\n",
              "      <td>Yes</td>\n",
              "      <td>3000</td>\n",
              "      <td>0.0</td>\n",
              "      <td>66.0</td>\n",
              "      <td>360.0</td>\n",
              "      <td>1.0</td>\n",
              "      <td>Urban</td>\n",
              "      <td>Y</td>\n",
              "    </tr>\n",
              "    <tr>\n",
              "      <th>3</th>\n",
              "      <td>LP001006</td>\n",
              "      <td>Male</td>\n",
              "      <td>Yes</td>\n",
              "      <td>0</td>\n",
              "      <td>Not Graduate</td>\n",
              "      <td>No</td>\n",
              "      <td>2583</td>\n",
              "      <td>2358.0</td>\n",
              "      <td>120.0</td>\n",
              "      <td>360.0</td>\n",
              "      <td>1.0</td>\n",
              "      <td>Urban</td>\n",
              "      <td>Y</td>\n",
              "    </tr>\n",
              "    <tr>\n",
              "      <th>4</th>\n",
              "      <td>LP001008</td>\n",
              "      <td>Male</td>\n",
              "      <td>No</td>\n",
              "      <td>0</td>\n",
              "      <td>Graduate</td>\n",
              "      <td>No</td>\n",
              "      <td>6000</td>\n",
              "      <td>0.0</td>\n",
              "      <td>141.0</td>\n",
              "      <td>360.0</td>\n",
              "      <td>1.0</td>\n",
              "      <td>Urban</td>\n",
              "      <td>Y</td>\n",
              "    </tr>\n",
              "  </tbody>\n",
              "</table>\n",
              "</div>"
            ],
            "text/plain": [
              "    Loan_ID Gender Married Dependents     Education Self_Employed  \\\n",
              "0  LP001002   Male      No          0      Graduate            No   \n",
              "1  LP001003   Male     Yes          1      Graduate            No   \n",
              "2  LP001005   Male     Yes          0      Graduate           Yes   \n",
              "3  LP001006   Male     Yes          0  Not Graduate            No   \n",
              "4  LP001008   Male      No          0      Graduate            No   \n",
              "\n",
              "   ApplicantIncome  CoapplicantIncome  LoanAmount  Loan_Amount_Term  \\\n",
              "0             5849                0.0         NaN             360.0   \n",
              "1             4583             1508.0       128.0             360.0   \n",
              "2             3000                0.0        66.0             360.0   \n",
              "3             2583             2358.0       120.0             360.0   \n",
              "4             6000                0.0       141.0             360.0   \n",
              "\n",
              "   Credit_History Property_Area Loan_Status  \n",
              "0             1.0         Urban           Y  \n",
              "1             1.0         Rural           N  \n",
              "2             1.0         Urban           Y  \n",
              "3             1.0         Urban           Y  \n",
              "4             1.0         Urban           Y  "
            ]
          },
          "execution_count": 3,
          "metadata": {},
          "output_type": "execute_result"
        }
      ],
      "source": [
        "data.head()"
      ]
    },
    {
      "cell_type": "markdown",
      "source": [
        "## Print information about the Dataset:"
      ],
      "metadata": {
        "id": "tn2mTI6-XlL8"
      },
      "id": "tn2mTI6-XlL8"
    },
    {
      "cell_type": "code",
      "execution_count": 5,
      "id": "9c27f3af",
      "metadata": {
        "colab": {
          "base_uri": "https://localhost:8080/"
        },
        "id": "9c27f3af",
        "outputId": "d14fe0fd-f4c6-4230-a35f-f86fc501b1c9"
      },
      "outputs": [
        {
          "output_type": "stream",
          "name": "stdout",
          "text": [
            "<class 'pandas.core.frame.DataFrame'>\n",
            "RangeIndex: 614 entries, 0 to 613\n",
            "Data columns (total 13 columns):\n",
            " #   Column             Non-Null Count  Dtype  \n",
            "---  ------             --------------  -----  \n",
            " 0   Loan_ID            614 non-null    object \n",
            " 1   Gender             601 non-null    object \n",
            " 2   Married            611 non-null    object \n",
            " 3   Dependents         599 non-null    object \n",
            " 4   Education          614 non-null    object \n",
            " 5   Self_Employed      582 non-null    object \n",
            " 6   ApplicantIncome    614 non-null    int64  \n",
            " 7   CoapplicantIncome  614 non-null    float64\n",
            " 8   LoanAmount         592 non-null    float64\n",
            " 9   Loan_Amount_Term   600 non-null    float64\n",
            " 10  Credit_History     564 non-null    float64\n",
            " 11  Property_Area      614 non-null    object \n",
            " 12  Loan_Status        614 non-null    object \n",
            "dtypes: float64(4), int64(1), object(8)\n",
            "memory usage: 62.5+ KB\n"
          ]
        }
      ],
      "source": [
        "data.info()"
      ]
    },
    {
      "cell_type": "markdown",
      "source": [
        "***seaborn.countplot() or sb.countplot() method is used to show the counts of observations in each categorical bin using bars. ***"
      ],
      "metadata": {
        "id": "Sfbcz7s-X1LE"
      },
      "id": "Sfbcz7s-X1LE"
    },
    {
      "cell_type": "markdown",
      "source": [
        "### *For Gender*"
      ],
      "metadata": {
        "id": "gAKbwDliYfJI"
      },
      "id": "gAKbwDliYfJI"
    },
    {
      "cell_type": "code",
      "execution_count": 6,
      "id": "426e825f",
      "metadata": {
        "colab": {
          "base_uri": "https://localhost:8080/",
          "height": 296
        },
        "id": "426e825f",
        "outputId": "71c7fefa-993e-4542-b3ad-6916376c01d3"
      },
      "outputs": [
        {
          "output_type": "execute_result",
          "data": {
            "text/plain": [
              "<matplotlib.axes._subplots.AxesSubplot at 0x7f75ab4c0190>"
            ]
          },
          "metadata": {},
          "execution_count": 6
        },
        {
          "output_type": "display_data",
          "data": {
            "text/plain": [
              "<Figure size 432x288 with 1 Axes>"
            ],
            "image/png": "[encoded data removed]"
          },
          "metadata": {
            "needs_background": "light"
          }
        }
      ],
      "source": [
        "sb.countplot(data=data, x='Gender')"
      ]
    },
    {
      "cell_type": "markdown",
      "source": [
        "### *For  Married*"
      ],
      "metadata": {
        "id": "-_-kVGmXYlkd"
      },
      "id": "-_-kVGmXYlkd"
    },
    {
      "cell_type": "code",
      "execution_count": 7,
      "id": "3686478b",
      "metadata": {
        "colab": {
          "base_uri": "https://localhost:8080/",
          "height": 296
        },
        "id": "3686478b",
        "outputId": "7e335bd8-ba35-4b26-d623-85c27a947775"
      },
      "outputs": [
        {
          "output_type": "execute_result",
          "data": {
            "text/plain": [
              "<matplotlib.axes._subplots.AxesSubplot at 0x7f75ab3a6210>"
            ]
          },
          "metadata": {},
          "execution_count": 7
        },
        {
          "output_type": "display_data",
          "data": {
            "text/plain": [
              "<Figure size 432x288 with 1 Axes>"
            ],
            "image/png": "[encoded data removed]"
          },
          "metadata": {
            "needs_background": "light"
          }
        }
      ],
      "source": [
        "sb.countplot(data=data, x='Married')"
      ]
    },
    {
      "cell_type": "markdown",
      "source": [
        "### *For Dependent*"
      ],
      "metadata": {
        "id": "yeN_TS2VY3WE"
      },
      "id": "yeN_TS2VY3WE"
    },
    {
      "cell_type": "code",
      "execution_count": 8,
      "id": "1f310ea9",
      "metadata": {
        "colab": {
          "base_uri": "https://localhost:8080/",
          "height": 296
        },
        "id": "1f310ea9",
        "outputId": "d4fde6e0-92bb-4e14-9f48-9abbf945c4fe"
      },
      "outputs": [
        {
          "output_type": "execute_result",
          "data": {
            "text/plain": [
              "<matplotlib.axes._subplots.AxesSubplot at 0x7f75aaedbe10>"
            ]
          },
          "metadata": {},
          "execution_count": 8
        },
        {
          "output_type": "display_data",
          "data": {
            "text/plain": [
              "<Figure size 432x288 with 1 Axes>"
            ],
            "image/png": "[encoded data removed]"
          },
          "metadata": {
            "needs_background": "light"
          }
        }
      ],
      "source": [
        "sb.countplot(data=data, x='Dependents')"
      ]
    },
    {
      "cell_type": "markdown",
      "source": [
        "### *For Self Employed*"
      ],
      "metadata": {
        "id": "JHNGkeaTZGP3"
      },
      "id": "JHNGkeaTZGP3"
    },
    {
      "cell_type": "code",
      "execution_count": 9,
      "id": "18f9a32b",
      "metadata": {
        "colab": {
          "base_uri": "https://localhost:8080/",
          "height": 298
        },
        "id": "18f9a32b",
        "outputId": "8b6ea1ca-eb56-4f84-a215-c638ad2d9eb3"
      },
      "outputs": [
        {
          "output_type": "execute_result",
          "data": {
            "text/plain": [
              "<matplotlib.axes._subplots.AxesSubplot at 0x7f75aae58750>"
            ]
          },
          "metadata": {},
          "execution_count": 9
        },
        {
          "output_type": "display_data",
          "data": {
            "text/plain": [
              "<Figure size 432x288 with 1 Axes>"
            ],
            "image/png": "[encoded data removed]"
          },
          "metadata": {
            "needs_background": "light"
          }
        }
      ],
      "source": [
        "sb.countplot(data=data, x='Self_Employed')"
      ]
    },
    {
      "cell_type": "markdown",
      "source": [
        "### displot is an upgraded version of distplot() function. It is used to plot the distplot which represents the univariate distribution of data i.e. data distribution of a variable against the density distribution. \n",
        "### It shows a histogram with a line on it."
      ],
      "metadata": {
        "id": "f23V3IItZgxZ"
      },
      "id": "f23V3IItZgxZ"
    },
    {
      "cell_type": "markdown",
      "source": [
        "### *For Applicant Income*"
      ],
      "metadata": {
        "id": "YUah_jFvaTPP"
      },
      "id": "YUah_jFvaTPP"
    },
    {
      "cell_type": "code",
      "execution_count": 10,
      "id": "0851e200",
      "metadata": {
        "colab": {
          "base_uri": "https://localhost:8080/",
          "height": 386
        },
        "id": "0851e200",
        "outputId": "c9be14cb-a9b6-4f79-da30-36817f255c4f"
      },
      "outputs": [
        {
          "output_type": "execute_result",
          "data": {
            "text/plain": [
              "<seaborn.axisgrid.FacetGrid at 0x7f75aae31090>"
            ]
          },
          "metadata": {},
          "execution_count": 10
        },
        {
          "output_type": "display_data",
          "data": {
            "text/plain": [
              "<Figure size 360x360 with 1 Axes>"
            ],
            "image/png": "[encoded data removed]"
          },
          "metadata": {
            "needs_background": "light"
          }
        }
      ],
      "source": [
        "sb.displot(data=data, x='ApplicantIncome', binwidth=2000)"
      ]
    },
    {
      "cell_type": "markdown",
      "source": [
        "### *For Loan Amount*"
      ],
      "metadata": {
        "id": "NFB7YxQtaZDK"
      },
      "id": "NFB7YxQtaZDK"
    },
    {
      "cell_type": "code",
      "execution_count": 11,
      "id": "8901e6fe",
      "metadata": {
        "colab": {
          "base_uri": "https://localhost:8080/",
          "height": 386
        },
        "id": "8901e6fe",
        "outputId": "bdd867ea-26aa-4bab-83eb-8880abc4f2c8"
      },
      "outputs": [
        {
          "output_type": "execute_result",
          "data": {
            "text/plain": [
              "<seaborn.axisgrid.FacetGrid at 0x7f75aad8a410>"
            ]
          },
          "metadata": {},
          "execution_count": 11
        },
        {
          "output_type": "display_data",
          "data": {
            "text/plain": [
              "<Figure size 360x360 with 1 Axes>"
            ],
            "image/png": "[encoded data removed]"
          },
          "metadata": {
            "needs_background": "light"
          }
        }
      ],
      "source": [
        "sb.displot(data=data, x='LoanAmount', binwidth=20)"
      ]
    },
    {
      "cell_type": "markdown",
      "source": [
        "### *For Loan Amount Term*"
      ],
      "metadata": {
        "id": "hgoWpU5AaeCM"
      },
      "id": "hgoWpU5AaeCM"
    },
    {
      "cell_type": "code",
      "execution_count": 12,
      "id": "2ff0e9d2",
      "metadata": {
        "colab": {
          "base_uri": "https://localhost:8080/",
          "height": 298
        },
        "id": "2ff0e9d2",
        "outputId": "d39479ed-2a92-47e8-f010-72806ae7d054"
      },
      "outputs": [
        {
          "output_type": "execute_result",
          "data": {
            "text/plain": [
              "<matplotlib.axes._subplots.AxesSubplot at 0x7f75aadfbb50>"
            ]
          },
          "metadata": {},
          "execution_count": 12
        },
        {
          "output_type": "display_data",
          "data": {
            "text/plain": [
              "<Figure size 432x288 with 1 Axes>"
            ],
            "image/png": "[encoded data removed]"
          },
          "metadata": {
            "needs_background": "light"
          }
        }
      ],
      "source": [
        "sb.countplot(data=data, x='Loan_Amount_Term')\n"
      ]
    },
    {
      "cell_type": "markdown",
      "source": [
        "## *For Credit History*"
      ],
      "metadata": {
        "id": "xjGCrZZ4am5p"
      },
      "id": "xjGCrZZ4am5p"
    },
    {
      "cell_type": "code",
      "execution_count": 13,
      "id": "79c1feee",
      "metadata": {
        "colab": {
          "base_uri": "https://localhost:8080/",
          "height": 298
        },
        "id": "79c1feee",
        "outputId": "02f5c770-83bc-423c-8882-809cc0127e70"
      },
      "outputs": [
        {
          "output_type": "execute_result",
          "data": {
            "text/plain": [
              "<matplotlib.axes._subplots.AxesSubplot at 0x7f75a83b3c90>"
            ]
          },
          "metadata": {},
          "execution_count": 13
        },
        {
          "output_type": "display_data",
          "data": {
            "text/plain": [
              "<Figure size 432x288 with 1 Axes>"
            ],
            "image/png": "[encoded data removed]"
          },
          "metadata": {
            "needs_background": "light"
          }
        }
      ],
      "source": [
        "sb.countplot(data=data, x='Credit_History')"
      ]
    },
    {
      "cell_type": "markdown",
      "source": [
        "### Removing the Loan ID"
      ],
      "metadata": {
        "id": "6IqdmpLFa2rg"
      },
      "id": "6IqdmpLFa2rg"
    },
    {
      "cell_type": "code",
      "execution_count": 14,
      "id": "b356f8e7",
      "metadata": {
        "id": "b356f8e7"
      },
      "outputs": [],
      "source": [
        "data.drop('Loan_ID', axis=1, inplace=True)"
      ]
    },
    {
      "cell_type": "markdown",
      "source": [
        "### Detect missing values"
      ],
      "metadata": {
        "id": "7mF3sj5LiCYr"
      },
      "id": "7mF3sj5LiCYr"
    },
    {
      "cell_type": "code",
      "execution_count": 15,
      "id": "dc6109fe",
      "metadata": {
        "colab": {
          "base_uri": "https://localhost:8080/"
        },
        "id": "dc6109fe",
        "outputId": "511973b5-f748-44cf-c97f-e90a4929407c"
      },
      "outputs": [
        {
          "output_type": "execute_result",
          "data": {
            "text/plain": [
              "Credit_History       50\n",
              "Self_Employed        32\n",
              "LoanAmount           22\n",
              "Dependents           15\n",
              "Loan_Amount_Term     14\n",
              "Gender               13\n",
              "Married               3\n",
              "Education             0\n",
              "ApplicantIncome       0\n",
              "CoapplicantIncome     0\n",
              "Property_Area         0\n",
              "Loan_Status           0\n",
              "dtype: int64"
            ]
          },
          "metadata": {},
          "execution_count": 15
        }
      ],
      "source": [
        "data.isna().sum().sort_values(ascending=False)"
      ]
    },
    {
      "cell_type": "markdown",
      "source": [
        "### Replace Null values in dataset"
      ],
      "metadata": {
        "id": "XlbBcyISiUs2"
      },
      "id": "XlbBcyISiUs2"
    },
    {
      "cell_type": "code",
      "execution_count": 16,
      "id": "158e241d",
      "metadata": {
        "id": "158e241d"
      },
      "outputs": [],
      "source": [
        "data.fillna({\n",
        "    'Credit_History': data.Credit_History.mode()[0],\n",
        "    'Self_Employed': data.Dependents.mode()[0],\n",
        "    'LoanAmount': data.LoanAmount.median(),\n",
        "    'Dependents': data.Dependents.mode()[0],\n",
        "    'Loan_Amount_Term': data.Loan_Amount_Term.mode()[0],\n",
        "    'Gender': data.Gender.mode()[0],\n",
        "    'Married': data.Married.mode()[0]\n",
        "}, inplace=True)"
      ]
    },
    {
      "cell_type": "markdown",
      "source": [
        "### **ENCODING**\n",
        "\n",
        "Encode target labels with value between 0 and n_classes-1"
      ],
      "metadata": {
        "id": "iXUtV-HXigJo"
      },
      "id": "iXUtV-HXigJo"
    },
    {
      "cell_type": "code",
      "execution_count": 17,
      "id": "26f47ca9",
      "metadata": {
        "id": "26f47ca9"
      },
      "outputs": [],
      "source": [
        "from sklearn.preprocessing import LabelEncoder\n",
        "\n",
        "gender_le = LabelEncoder()\n",
        "data.Gender = gender_le.fit_transform(data.Gender)\n",
        "married_le = LabelEncoder()\n",
        "data.Married = married_le.fit_transform(data.Married)\n",
        "dependents_le = LabelEncoder()\n",
        "data.Dependents = dependents_le.fit_transform(data.Dependents)\n",
        "education_le = LabelEncoder()\n",
        "data.Education = education_le.fit_transform(data.Education)\n",
        "self_employed_le = LabelEncoder()\n",
        "data.Self_Employed = self_employed_le.fit_transform(data.Self_Employed)\n",
        "property_area_le = LabelEncoder()\n",
        "data.Property_Area = property_area_le.fit_transform(data.Property_Area)\n",
        "loan_status_le = LabelEncoder()\n",
        "data.Loan_Status = loan_status_le.fit_transform(data.Loan_Status)"
      ]
    },
    {
      "cell_type": "markdown",
      "source": [
        "### Now, print the new first few rows:"
      ],
      "metadata": {
        "id": "l076OPBWixPk"
      },
      "id": "l076OPBWixPk"
    },
    {
      "cell_type": "code",
      "execution_count": 18,
      "id": "124a3043",
      "metadata": {
        "colab": {
          "base_uri": "https://localhost:8080/",
          "height": 250
        },
        "id": "124a3043",
        "outputId": "6e09f523-f5f8-46f1-9b61-2f04fb36c37f"
      },
      "outputs": [
        {
          "output_type": "execute_result",
          "data": {
            "text/plain": [
              "   Gender  Married  Dependents  Education  Self_Employed  ApplicantIncome  \\\n",
              "0       1        0           0          0              1             5849   \n",
              "1       1        1           1          0              1             4583   \n",
              "2       1        1           0          0              2             3000   \n",
              "3       1        1           0          1              1             2583   \n",
              "4       1        0           0          0              1             6000   \n",
              "\n",
              "   CoapplicantIncome  LoanAmount  Loan_Amount_Term  Credit_History  \\\n",
              "0                0.0       128.0             360.0             1.0   \n",
              "1             1508.0       128.0             360.0             1.0   \n",
              "2                0.0        66.0             360.0             1.0   \n",
              "3             2358.0       120.0             360.0             1.0   \n",
              "4                0.0       141.0             360.0             1.0   \n",
              "\n",
              "   Property_Area  Loan_Status  \n",
              "0              2            1  \n",
              "1              0            0  \n",
              "2              2            1  \n",
              "3              2            1  \n",
              "4              2            1  "
            ],
            "text/html": [
              "\n",
              "  <div id=\"df-6e1ba865-b85f-40b2-80c0-c1fd628368db\">\n",
              "    <div class=\"colab-df-container\">\n",
              "      <div>\n",
              "<style scoped>\n",
              "    .dataframe tbody tr th:only-of-type {\n",
              "        vertical-align: middle;\n",
              "    }\n",
              "\n",
              "    .dataframe tbody tr th {\n",
              "        vertical-align: top;\n",
              "    }\n",
              "\n",
              "    .dataframe thead th {\n",
              "        text-align: right;\n",
              "    }\n",
              "</style>\n",
              "<table border=\"1\" class=\"dataframe\">\n",
              "  <thead>\n",
              "    <tr style=\"text-align: right;\">\n",
              "      <th></th>\n",
              "      <th>Gender</th>\n",
              "      <th>Married</th>\n",
              "      <th>Dependents</th>\n",
              "      <th>Education</th>\n",
              "      <th>Self_Employed</th>\n",
              "      <th>ApplicantIncome</th>\n",
              "      <th>CoapplicantIncome</th>\n",
              "      <th>LoanAmount</th>\n",
              "      <th>Loan_Amount_Term</th>\n",
              "      <th>Credit_History</th>\n",
              "      <th>Property_Area</th>\n",
              "      <th>Loan_Status</th>\n",
              "    </tr>\n",
              "  </thead>\n",
              "  <tbody>\n",
              "    <tr>\n",
              "      <th>0</th>\n",
              "      <td>1</td>\n",
              "      <td>0</td>\n",
              "      <td>0</td>\n",
              "      <td>0</td>\n",
              "      <td>1</td>\n",
              "      <td>5849</td>\n",
              "      <td>0.0</td>\n",
              "      <td>128.0</td>\n",
              "      <td>360.0</td>\n",
              "      <td>1.0</td>\n",
              "      <td>2</td>\n",
              "      <td>1</td>\n",
              "    </tr>\n",
              "    <tr>\n",
              "      <th>1</th>\n",
              "      <td>1</td>\n",
              "      <td>1</td>\n",
              "      <td>1</td>\n",
              "      <td>0</td>\n",
              "      <td>1</td>\n",
              "      <td>4583</td>\n",
              "      <td>1508.0</td>\n",
              "      <td>128.0</td>\n",
              "      <td>360.0</td>\n",
              "      <td>1.0</td>\n",
              "      <td>0</td>\n",
              "      <td>0</td>\n",
              "    </tr>\n",
              "    <tr>\n",
              "      <th>2</th>\n",
              "      <td>1</td>\n",
              "      <td>1</td>\n",
              "      <td>0</td>\n",
              "      <td>0</td>\n",
              "      <td>2</td>\n",
              "      <td>3000</td>\n",
              "      <td>0.0</td>\n",
              "      <td>66.0</td>\n",
              "      <td>360.0</td>\n",
              "      <td>1.0</td>\n",
              "      <td>2</td>\n",
              "      <td>1</td>\n",
              "    </tr>\n",
              "    <tr>\n",
              "      <th>3</th>\n",
              "      <td>1</td>\n",
              "      <td>1</td>\n",
              "      <td>0</td>\n",
              "      <td>1</td>\n",
              "      <td>1</td>\n",
              "      <td>2583</td>\n",
              "      <td>2358.0</td>\n",
              "      <td>120.0</td>\n",
              "      <td>360.0</td>\n",
              "      <td>1.0</td>\n",
              "      <td>2</td>\n",
              "      <td>1</td>\n",
              "    </tr>\n",
              "    <tr>\n",
              "      <th>4</th>\n",
              "      <td>1</td>\n",
              "      <td>0</td>\n",
              "      <td>0</td>\n",
              "      <td>0</td>\n",
              "      <td>1</td>\n",
              "      <td>6000</td>\n",
              "      <td>0.0</td>\n",
              "      <td>141.0</td>\n",
              "      <td>360.0</td>\n",
              "      <td>1.0</td>\n",
              "      <td>2</td>\n",
              "      <td>1</td>\n",
              "    </tr>\n",
              "  </tbody>\n",
              "</table>\n",
              "</div>\n",
              "      <button class=\"colab-df-convert\" onclick=\"convertToInteractive('df-6e1ba865-b85f-40b2-80c0-c1fd628368db')\"\n",
              "              title=\"Convert this dataframe to an interactive table.\"\n",
              "              style=\"display:none;\">\n",
              "        \n",
              "  <svg xmlns=\"http://www.w3.org/2000/svg\" height=\"24px\"viewBox=\"0 0 24 24\"\n",
              "       width=\"24px\">\n",
              "    <path d=\"M0 0h24v24H0V0z\" fill=\"none\"/>\n",
              "    <path d=\"M18.56 5.44l.94 2.06.94-2.06 2.06-.94-2.06-.94-.94-2.06-.94 2.06-2.06.94zm-11 1L8.5 8.5l.94-2.06 2.06-.94-2.06-.94L8.5 2.5l-.94 2.06-2.06.94zm10 10l.94 2.06.94-2.06 2.06-.94-2.06-.94-.94-2.06-.94 2.06-2.06.94z\"/><path d=\"M17.41 7.96l-1.37-1.37c-.4-.4-.92-.59-1.43-.59-.52 0-1.04.2-1.43.59L10.3 9.45l-7.72 7.72c-.78.78-.78 2.05 0 2.83L4 21.41c.39.39.9.59 1.41.59.51 0 1.02-.2 1.41-.59l7.78-7.78 2.81-2.81c.8-.78.8-2.07 0-2.86zM5.41 20L4 18.59l7.72-7.72 1.47 1.35L5.41 20z\"/>\n",
              "  </svg>\n",
              "      </button>\n",
              "      \n",
              "  <style>\n",
              "    .colab-df-container {\n",
              "      display:flex;\n",
              "      flex-wrap:wrap;\n",
              "      gap: 12px;\n",
              "    }\n",
              "\n",
              "    .colab-df-convert {\n",
              "      background-color: #E8F0FE;\n",
              "      border: none;\n",
              "      border-radius: 50%;\n",
              "      cursor: pointer;\n",
              "      display: none;\n",
              "      fill: #1967D2;\n",
              "      height: 32px;\n",
              "      padding: 0 0 0 0;\n",
              "      width: 32px;\n",
              "    }\n",
              "\n",
              "    .colab-df-convert:hover {\n",
              "      background-color: #E2EBFA;\n",
              "      box-shadow: 0px 1px 2px rgba(60, 64, 67, 0.3), 0px 1px 3px 1px rgba(60, 64, 67, 0.15);\n",
              "      fill: #174EA6;\n",
              "    }\n",
              "\n",
              "    [theme=dark] .colab-df-convert {\n",
              "      background-color: #3B4455;\n",
              "      fill: #D2E3FC;\n",
              "    }\n",
              "\n",
              "    [theme=dark] .colab-df-convert:hover {\n",
              "      background-color: #434B5C;\n",
              "      box-shadow: 0px 1px 3px 1px rgba(0, 0, 0, 0.15);\n",
              "      filter: drop-shadow(0px 1px 2px rgba(0, 0, 0, 0.3));\n",
              "      fill: #FFFFFF;\n",
              "    }\n",
              "  </style>\n",
              "\n",
              "      <script>\n",
              "        const buttonEl =\n",
              "          document.querySelector('#df-6e1ba865-b85f-40b2-80c0-c1fd628368db button.colab-df-convert');\n",
              "        buttonEl.style.display =\n",
              "          google.colab.kernel.accessAllowed ? 'block' : 'none';\n",
              "\n",
              "        async function convertToInteractive(key) {\n",
              "          const element = document.querySelector('#df-6e1ba865-b85f-40b2-80c0-c1fd628368db');\n",
              "          const dataTable =\n",
              "            await google.colab.kernel.invokeFunction('convertToInteractive',\n",
              "                                                     [key], {});\n",
              "          if (!dataTable) return;\n",
              "\n",
              "          const docLinkHtml = 'Like what you see? Visit the ' +\n",
              "            '<a target=\"_blank\" href=https://colab.research.google.com/notebooks/data_table.ipynb>data table notebook</a>'\n",
              "            + ' to learn more about interactive tables.';\n",
              "          element.innerHTML = '';\n",
              "          dataTable['output_type'] = 'display_data';\n",
              "          await google.colab.output.renderOutput(dataTable, element);\n",
              "          const docLink = document.createElement('div');\n",
              "          docLink.innerHTML = docLinkHtml;\n",
              "          element.appendChild(docLink);\n",
              "        }\n",
              "      </script>\n",
              "    </div>\n",
              "  </div>\n",
              "  "
            ]
          },
          "metadata": {},
          "execution_count": 18
        }
      ],
      "source": [
        "data.head()"
      ]
    },
    {
      "cell_type": "code",
      "execution_count": 19,
      "id": "ff7e6ea1",
      "metadata": {
        "id": "ff7e6ea1"
      },
      "outputs": [],
      "source": [
        "X = data.drop(columns=['Loan_Status'], axis=1)\n",
        "y = data['Loan_Status']"
      ]
    },
    {
      "cell_type": "markdown",
      "source": [
        "train_test_split is a function in Sklearn model selection for splitting data arrays into two subsets: for training data and for testing data."
      ],
      "metadata": {
        "id": "jro0YYxZjpuB"
      },
      "id": "jro0YYxZjpuB"
    },
    {
      "cell_type": "code",
      "execution_count": 20,
      "id": "07247b0f",
      "metadata": {
        "id": "07247b0f"
      },
      "outputs": [],
      "source": [
        "from sklearn.model_selection import train_test_split\n",
        "x_train, x_test, y_train, y_test = train_test_split(X, y, test_size=0.1, random_state=42)"
      ]
    },
    {
      "cell_type": "markdown",
      "source": [
        "The cross_val_score() function will be used to perform the evaluation, taking the dataset and cross-validation configuration and returning a list of scores calculated for each fold\n",
        "\n",
        "## **Cross Validation : It is done  for better validation of the model**\n",
        "\n",
        "### For Example: In cv-5, train-4, test-1"
      ],
      "metadata": {
        "id": "tpVF35H4jdOM"
      },
      "id": "tpVF35H4jdOM"
    },
    {
      "cell_type": "code",
      "execution_count": 30,
      "id": "8d7be105",
      "metadata": {
        "id": "8d7be105"
      },
      "outputs": [],
      "source": [
        "from sklearn.model_selection import cross_val_score\n",
        "def classify(model, x, y):\n",
        "    x_train, x_test, y_train, y_test = train_test_split(X, y, test_size=0.1, random_state=42)\n",
        "    model.fit(x_train, y_train)\n",
        "    print(\"Accuracy is\", model.score(x_test, y_test)*100)\n",
        "    score = cross_val_score(model, x, y, cv=5)\n",
        "    print(\"Cross validation is\",np.mean(score)*100)\n"
      ]
    },
    {
      "cell_type": "markdown",
      "source": [
        "A random forest classifier is a meta estimator that fits a number of decision tree classifiers on various sub-samples of the dataset and uses averaging to improve the predictive accuracy and control over-fitting"
      ],
      "metadata": {
        "id": "CwDXnd9cWIh_"
      },
      "id": "CwDXnd9cWIh_"
    },
    {
      "cell_type": "code",
      "execution_count": 31,
      "id": "4ac9bf01",
      "metadata": {
        "colab": {
          "base_uri": "https://localhost:8080/"
        },
        "id": "4ac9bf01",
        "outputId": "ea3f1253-90d5-4076-9ce4-2dcb00e50c13"
      },
      "outputs": [
        {
          "output_type": "stream",
          "name": "stdout",
          "text": [
            "Accuracy is 74.19354838709677\n",
            "Cross validation is 78.82846861255499\n"
          ]
        }
      ],
      "source": [
        "from sklearn.ensemble import RandomForestClassifier\n",
        "model = RandomForestClassifier()\n",
        "classify(model, X, y)"
      ]
    },
    {
      "cell_type": "markdown",
      "source": [
        " SVC (Support Vector Classifier) used to fit the data provided, returning a \"best fit\" hyperplane that divides, or categorizes, the data."
      ],
      "metadata": {
        "id": "ge4QFJZHkTvU"
      },
      "id": "ge4QFJZHkTvU"
    },
    {
      "cell_type": "code",
      "execution_count": 32,
      "id": "e1d6a4ec",
      "metadata": {
        "colab": {
          "base_uri": "https://localhost:8080/"
        },
        "id": "e1d6a4ec",
        "outputId": "8b0927d5-f486-4e8d-ae29-47b0c0b3494c"
      },
      "outputs": [
        {
          "output_type": "stream",
          "name": "stdout",
          "text": [
            "Accuracy is 66.12903225806451\n",
            "Cross validation is 69.05504464880714\n"
          ]
        }
      ],
      "source": [
        "from sklearn.svm import SVC\n",
        "model = SVC(gamma='auto')\n",
        "classify(model, X, y)"
      ]
    },
    {
      "cell_type": "markdown",
      "source": [
        "KNeighborsClassifier implementing the k-nearest neighbors vote, implements learning based on the k nearest neighbors"
      ],
      "metadata": {
        "id": "zzutgSSpkkJe"
      },
      "id": "zzutgSSpkkJe"
    },
    {
      "cell_type": "code",
      "execution_count": 33,
      "id": "b9142b87",
      "metadata": {
        "colab": {
          "base_uri": "https://localhost:8080/"
        },
        "id": "b9142b87",
        "outputId": "a3ded611-e42e-4cb2-fa0c-e9c97c503a9f"
      },
      "outputs": [
        {
          "output_type": "execute_result",
          "data": {
            "text/plain": [
              "KNeighborsClassifier(n_neighbors=10)"
            ]
          },
          "metadata": {},
          "execution_count": 33
        }
      ],
      "source": [
        "from sklearn.neighbors import KNeighborsClassifier\n",
        "model = KNeighborsClassifier(n_neighbors=10)\n",
        "model.fit(x_train, y_train)"
      ]
    },
    {
      "cell_type": "markdown",
      "source": [
        "## *A classification report is a performance evaluation metric in machine learning. It is used to show the precision, recall, F1 Score, and support of your trained classification model.*"
      ],
      "metadata": {
        "id": "NAt63SWsk4Y1"
      },
      "id": "NAt63SWsk4Y1"
    },
    {
      "cell_type": "code",
      "execution_count": 34,
      "id": "e3080e33",
      "metadata": {
        "colab": {
          "base_uri": "https://localhost:8080/"
        },
        "id": "e3080e33",
        "outputId": "45be99b1-73a2-4314-8df8-0efbd93ebb32"
      },
      "outputs": [
        {
          "output_type": "stream",
          "name": "stdout",
          "text": [
            "              precision    recall  f1-score   support\n",
            "\n",
            "           0       0.10      0.29      0.14         7\n",
            "           1       0.88      0.65      0.75        55\n",
            "\n",
            "    accuracy                           0.61        62\n",
            "   macro avg       0.49      0.47      0.45        62\n",
            "weighted avg       0.79      0.61      0.68        62\n",
            "\n"
          ]
        }
      ],
      "source": [
        "from sklearn.metrics import classification_report\n",
        "pred=model.predict(x_test)\n",
        "print(classification_report(pred, y_test))"
      ]
    }
  ],
  "metadata": {
    "kernelspec": {
      "display_name": "Python 3",
      "language": "python",
      "name": "python3"
    },
    "language_info": {
      "codemirror_mode": {
        "name": "ipython",
        "version": 3
      },
      "file_extension": ".py",
      "mimetype": "text/x-python",
      "name": "python",
      "nbconvert_exporter": "python",
      "pygments_lexer": "ipython3",
      "version": "3.6.8"
    },
    "colab": {
      "name": "final_project.ipynb",
      "provenance": [],
      "collapsed_sections": []
    }
  },
  "nbformat": 4,
  "nbformat_minor": 5
}